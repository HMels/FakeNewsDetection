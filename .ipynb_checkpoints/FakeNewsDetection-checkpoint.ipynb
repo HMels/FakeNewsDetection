{
 "cells": [
  {
   "cell_type": "code",
   "execution_count": 6,
   "id": "1bf4a555",
   "metadata": {},
   "outputs": [
    {
     "name": "stdout",
     "output_type": "stream",
     "text": [
      "Downloading and preparing dataset liar/default to C:/Users/Mels/.cache/huggingface/datasets/liar/default/1.0.0/479463e757b7991eed50ffa7504d7788d6218631a484442e2098dabbf3b44514...\n"
     ]
    },
    {
     "data": {
      "application/vnd.jupyter.widget-view+json": {
       "model_id": "7b96d5ac62ff4d52bfeb3acf3514efef",
       "version_major": 2,
       "version_minor": 0
      },
      "text/plain": [
       "Downloading data:   0%|          | 0.00/1.01M [00:00<?, ?B/s]"
      ]
     },
     "metadata": {},
     "output_type": "display_data"
    },
    {
     "data": {
      "application/vnd.jupyter.widget-view+json": {
       "model_id": "",
       "version_major": 2,
       "version_minor": 0
      },
      "text/plain": [
       "Generating train split:   0%|          | 0/10269 [00:00<?, ? examples/s]"
      ]
     },
     "metadata": {},
     "output_type": "display_data"
    },
    {
     "data": {
      "application/vnd.jupyter.widget-view+json": {
       "model_id": "",
       "version_major": 2,
       "version_minor": 0
      },
      "text/plain": [
       "Generating test split:   0%|          | 0/1283 [00:00<?, ? examples/s]"
      ]
     },
     "metadata": {},
     "output_type": "display_data"
    },
    {
     "data": {
      "application/vnd.jupyter.widget-view+json": {
       "model_id": "",
       "version_major": 2,
       "version_minor": 0
      },
      "text/plain": [
       "Generating validation split:   0%|          | 0/1284 [00:00<?, ? examples/s]"
      ]
     },
     "metadata": {},
     "output_type": "display_data"
    },
    {
     "name": "stdout",
     "output_type": "stream",
     "text": [
      "Dataset liar downloaded and prepared to C:/Users/Mels/.cache/huggingface/datasets/liar/default/1.0.0/479463e757b7991eed50ffa7504d7788d6218631a484442e2098dabbf3b44514. Subsequent calls will reuse this data.\n"
     ]
    },
    {
     "data": {
      "application/vnd.jupyter.widget-view+json": {
       "model_id": "a1ba6183ab6c48c2a61c483745209cd4",
       "version_major": 2,
       "version_minor": 0
      },
      "text/plain": [
       "  0%|          | 0/3 [00:00<?, ?it/s]"
      ]
     },
     "metadata": {},
     "output_type": "display_data"
    }
   ],
   "source": [
    "from datasets import load_dataset\n",
    "\n",
    "\n",
    "dataset = load_dataset(\"liar\")   \n",
    "\n",
    "'''\n",
    "User: Mels Habold\n",
    "Data downloaded from https://huggingface.co/datasets/liar\n",
    "Based on research from https://arxiv.org/abs/1705.00648\n",
    "And an article posted in https://www.analyticssteps.com/blogs/detection-fake-and-false-news-text-analysis-approaches-and-cnn-deep-learning-model \n",
    "''' "
   ]
  },
  {
   "cell_type": "markdown",
   "id": "688e6f6d",
   "metadata": {},
   "source": [
    "## The LIAR Dataset\n",
    "\n",
    "We consider six fine-grained labels for the truthfulness ratings: \n",
    "pants-fire, false, barelytrue, half-true, mostly-true, and true.\n",
    "\n",
    "It consists of three sets: The training set is used to fit the model's parameters, while the validation set is used to tune the model's hyperparameters (e.g., learning rate, number of layers, etc.) and to monitor the model's performance during training. The test set is used to evaluate the final performance of the model after it has been trained and fine-tuned using the training and validation sets.\n",
    "\n",
    "The next code allows us to split the data into 3 types:\n",
    "False, in between, True"
   ]
  },
  {
   "cell_type": "code",
   "execution_count": 119,
   "id": "ef362363",
   "metadata": {},
   "outputs": [],
   "source": [
    "if False:\n",
    "    print(\"\")\n",
    "else:\n",
    "    train_label = dataset[\"train\"]['label']\n",
    "    test_label = dataset[\"test\"]['label']\n",
    "    validation_label = dataset[\"validation\"]['label']"
   ]
  },
  {
   "cell_type": "markdown",
   "id": "70920805",
   "metadata": {},
   "source": [
    "## Model building\n",
    "\n",
    "The first part of the code imports the necessary libraries and defines the hyperparameters. Then, it loads the training data from a dataset object and tokenizes the text using the Tokenizer class from Keras. The Tokenizer class is used to convert text to sequences of integers. The num_words parameter specifies the maximum number of words to keep, based on word frequency. The next step is to pad the sequences so that all input data have the same length using the pad_sequences function from Keras.\n",
    "\n",
    "After the preprocessing steps, the code loads a pre-trained Word2Vec model using the Gensim library. Then, it creates an embedding matrix using the Word2Vec model to map each word in the input sequences to a corresponding vector in the embedding space. The embedding matrix is used to initialize the embedding layer in the CNN."
   ]
  },
  {
   "cell_type": "code",
   "execution_count": 162,
   "id": "dcd3a001",
   "metadata": {},
   "outputs": [],
   "source": [
    "#import the necessary libraries\n",
    "import numpy as np\n",
    "import tensorflow as tf\n",
    "import warnings\n",
    " \n",
    "warnings.filterwarnings(action = 'ignore')\n",
    "\n",
    "from tensorflow.keras.preprocessing.text import Tokenizer\n",
    "from tensorflow.keras.preprocessing.sequence import pad_sequences \n",
    "from keras.utils import to_categorical\n",
    "import gensim\n",
    "from gensim.models import Word2Vec\n",
    "\n",
    "#define the hyperparameters\n",
    "max_words = 100                 # max number of words in a statement\n",
    "embedding_dim = 50              # dimension of the word vector\n",
    "output_dim = tf.unique(train_label)[0].shape[0]  # number of output labels\n",
    "\n",
    "#tokenize the statements\n",
    "tokenizer = Tokenizer(num_words=max_words)\n",
    "tokenizer.fit_on_texts(dataset[\"train\"]['statement'])\n",
    "sequences_statement = tokenizer.texts_to_sequences(dataset[\"train\"]['statement'])\n",
    "\n",
    "#tokenize the statements\n",
    "tokenizer.fit_on_texts(dataset[\"train\"]['subject'])\n",
    "sequences_subject = tokenizer.texts_to_sequences(dataset[\"train\"]['subject'])\n",
    "\n",
    "#pad the sequences\n",
    "x_data_subject = pad_sequences(sequences_statement, maxlen=max_words)\n",
    "x_data_statement = pad_sequences(sequences_subject, maxlen=max_words)\n",
    "y_data = to_categorical(train_label, num_classes=output_dim)\n",
    "sequences_combined = sequences_statement + sequences_subject\n",
    "\n",
    "# Create the embedding matrix\n",
    "embedding_matrix = np.zeros((max_words, embedding_dim))\n",
    "for word, i in tokenizer.word_index.items():\n",
    "    if i < max_words:\n",
    "        try:\n",
    "            embedding_vector = word2vec_model.wv[word]\n",
    "            embedding_matrix[i] = embedding_vector\n",
    "        except KeyError:\n",
    "            pass\n",
    "\n",
    "# Create the embedding layer\n",
    "embedding_layer = Embedding(input_dim=max_words, output_dim=embedding_dim,\n",
    "                            weights=[embedding_matrix], input_length=max_words)"
   ]
  },
  {
   "cell_type": "markdown",
   "id": "f3ac8e45",
   "metadata": {},
   "source": [
    "## CNN Architecture\n",
    "\n",
    "1. Embedding layer: This layer maps the integer-encoded vocabulary to dense vectors of fixed size, in this case, an embedding vector of dimension embedding_dim for each word. The input_dim parameter specifies the size of the vocabulary, which is set to max_words in this code. The output_dim parameter specifies the size of the embedding vector.\n",
    "\n",
    "2. Bidirectional layer that wraps around the LSTM layer. The Bidirectional layer takes the LSTM layer as input and creates two copies of it, one for processing the text forward and the other for processing it backward. The outputs from these two layers are then concatenated and passed to the next layer.\n",
    "\n",
    "3. Convolutional layer: This layer applies num_filters filters of size kernel_size to the input sequence. The filters slide over the input sequence, producing a feature map of convolved features. The activation parameter is set to ReLU, which means that the output of the layer will be the rectified linear activation function of the convolved features.\n",
    "\n",
    "4. Max pooling layer: This layer downsamples the convolved features by taking the maximum value of each non-overlapping pool_size-sized segment of the feature map.\n",
    "\n",
    "5. Flatten layer: This layer flattens the output of the previous layer to a 1D array.\n",
    "\n",
    "6. Dense layer: This layer is a fully connected layer with hidden_dim units. The activation function used is ReLU, which applies the rectified linear activation function to the output.\n",
    "\n",
    "7. Dropout layers randomly drop out some of the neurons during training, which can help prevent overfitting. This can be added using the Dropout layer in Keras.\n",
    "\n",
    "8. Output layer: This layer is a fully connected layer with output_dim units, which corresponds to the number of output classes. The activation function used is softmax, which produces a probability distribution over the classes.\n",
    "\n",
    "In summary, the CNN takes as input a sequence of integers representing the words in a text, and passes it through an embedding layer to obtain dense vectors. Then, the convolutional layer applies a set of filters to the sequence, producing a feature map that is downsampled by the max pooling layer. The flatten layer converts the output of the max pooling layer into a 1D array, which is passed through a dense layer and finally an output layer to produce a probability distribution over the classes."
   ]
  },
  {
   "cell_type": "code",
   "execution_count": 164,
   "id": "b87c4a79",
   "metadata": {},
   "outputs": [
    {
     "name": "stdout",
     "output_type": "stream",
     "text": [
      "Model: \"model_5\"\n",
      "__________________________________________________________________________________________________\n",
      " Layer (type)                   Output Shape         Param #     Connected to                     \n",
      "==================================================================================================\n",
      " input_43 (InputLayer)          [(None, 100)]        0           []                               \n",
      "                                                                                                  \n",
      " input_44 (InputLayer)          [(None, 100)]        0           []                               \n",
      "                                                                                                  \n",
      " embedding_24 (Embedding)       (None, 100, 50)      5000        ['input_43[0][0]',               \n",
      "                                                                  'input_44[0][0]']               \n",
      "                                                                                                  \n",
      " concatenate_18 (Concatenate)   (None, 100, 100)     0           ['embedding_24[0][0]',           \n",
      "                                                                  'embedding_24[1][0]']           \n",
      "                                                                                                  \n",
      " conv1d_42 (Conv1D)             (None, 98, 128)      38528       ['concatenate_18[0][0]']         \n",
      "                                                                                                  \n",
      " max_pooling1d_15 (MaxPooling1D  (None, 49, 128)     0           ['conv1d_42[0][0]']              \n",
      " )                                                                                                \n",
      "                                                                                                  \n",
      " flatten_12 (Flatten)           (None, 6272)         0           ['max_pooling1d_15[0][0]']       \n",
      "                                                                                                  \n",
      " dense_55 (Dense)               (None, 50)           313650      ['flatten_12[0][0]']             \n",
      "                                                                                                  \n",
      " dense_56 (Dense)               (None, 6)            306         ['dense_55[0][0]']               \n",
      "                                                                                                  \n",
      "==================================================================================================\n",
      "Total params: 357,484\n",
      "Trainable params: 357,484\n",
      "Non-trainable params: 0\n",
      "__________________________________________________________________________________________________\n"
     ]
    }
   ],
   "source": [
    "#import the necessary libraries\n",
    "\n",
    "from tensorflow.keras.layers import *\n",
    "from keras.models import Model\n",
    "\n",
    "#define the hyperparameters\n",
    "\n",
    "num_filters = 128            # number of convolutional filters\n",
    "kernel_size = 3              # size of convolutional kernel\n",
    "pool_size = 2                # size of pooling window\n",
    "hidden_dim = 50              # dimension of fully connected layers\n",
    "\n",
    "# Define the two inputs\n",
    "input_subject = Input(shape=(max_words,), dtype='int32')\n",
    "input_statement = Input(shape=(max_words,), dtype='int32')\n",
    "\n",
    "# Define the embedding layer\n",
    "embedding_layer = Embedding(input_dim=max_words, output_dim=embedding_dim, input_length=max_len)\n",
    "\n",
    "# Apply the embedding layer to both inputs\n",
    "embedded_subject = embedding_layer(input_subject)\n",
    "embedded_statement = embedding_layer(input_statement)\n",
    "\n",
    "# Merge the two embedded inputs using the Concatenate layer\n",
    "merged = Concatenate(axis=-1)([embedded_subject, embedded_statement])\n",
    "\n",
    "# Define the model\n",
    "conv_layer = Conv1D(filters=num_filters, kernel_size=kernel_size, activation='softmax')(merged)\n",
    "pool_layer = MaxPooling1D(pool_size=pool_size)(conv_layer)\n",
    "flatten_layer = Flatten()(pool_layer)\n",
    "hidden_layer = Dense(hidden_dim, activation='relu')(flatten_layer)\n",
    "output = Dense(num_classes, activation='softmax')(hidden_layer)\n",
    "\n",
    "model = Model(inputs=[input_subject, input_statement], outputs=output)\n",
    "model.summary()"
   ]
  },
  {
   "cell_type": "markdown",
   "id": "be594d55",
   "metadata": {},
   "source": [
    "## Training\n",
    "\n",
    "The second part of the code trains the CNN using the fit function in Keras. The batch_size parameter specifies the number of samples processed in one batch, and the epochs parameter specifies the number of training epochs. The compile function is used to configure the learning process, including the optimizer, loss function, and evaluation metric. The adam optimizer is used, and the categorical_crossentropy loss function is used since this is a multi-class classification problem. The evaluation metric is accuracy.\n",
    "\n",
    "After training, the model is evaluated using the evaluate function in Keras, and the test loss and accuracy are printed."
   ]
  },
  {
   "cell_type": "code",
   "execution_count": 165,
   "id": "14a94337",
   "metadata": {},
   "outputs": [
    {
     "name": "stdout",
     "output_type": "stream",
     "text": [
      "Epoch 1/10\n",
      "289/289 [==============================] - 8s 24ms/step - loss: 1.7615 - accuracy: 0.1998 - val_loss: 1.7623 - val_accuracy: 0.2025\n",
      "Epoch 2/10\n",
      "289/289 [==============================] - 7s 24ms/step - loss: 1.7584 - accuracy: 0.2019 - val_loss: 1.7635 - val_accuracy: 0.2093\n",
      "Epoch 3/10\n",
      "289/289 [==============================] - 7s 24ms/step - loss: 1.7568 - accuracy: 0.1986 - val_loss: 1.7571 - val_accuracy: 0.2025\n",
      "Epoch 4/10\n",
      "289/289 [==============================] - 7s 24ms/step - loss: 1.7462 - accuracy: 0.2105 - val_loss: 1.7546 - val_accuracy: 0.2025\n",
      "Epoch 5/10\n",
      "289/289 [==============================] - 6s 22ms/step - loss: 1.7366 - accuracy: 0.2137 - val_loss: 1.7461 - val_accuracy: 0.2386\n",
      "Epoch 6/10\n",
      "289/289 [==============================] - 7s 23ms/step - loss: 1.7290 - accuracy: 0.2298 - val_loss: 1.7428 - val_accuracy: 0.2278\n",
      "Epoch 7/10\n",
      "289/289 [==============================] - 6s 22ms/step - loss: 1.7196 - accuracy: 0.2413 - val_loss: 1.7485 - val_accuracy: 0.1947\n",
      "Epoch 8/10\n",
      "289/289 [==============================] - 6s 22ms/step - loss: 1.7117 - accuracy: 0.2466 - val_loss: 1.7450 - val_accuracy: 0.2181\n",
      "Epoch 9/10\n",
      "289/289 [==============================] - 7s 23ms/step - loss: 1.7038 - accuracy: 0.2525 - val_loss: 1.7431 - val_accuracy: 0.2201\n"
     ]
    },
    {
     "data": {
      "text/plain": [
       "<keras.callbacks.History at 0x29d384e84f0>"
      ]
     },
     "execution_count": 165,
     "metadata": {},
     "output_type": "execute_result"
    }
   ],
   "source": [
    "from keras.callbacks import EarlyStopping\n",
    "\n",
    "early_stop = EarlyStopping(monitor='val_loss', patience=3)\n",
    "\n",
    "#compile the model\n",
    "model.compile(optimizer='adam', loss='categorical_crossentropy', metrics=['accuracy'])\n",
    "\n",
    "#train the model\n",
    "#model.fit(x_data, y_data, batch_size=32, epochs=10)\n",
    "model.fit(x_data, y_data, validation_split=0.1, batch_size=32, epochs=10, callbacks=[early_stop])"
   ]
  },
  {
   "cell_type": "markdown",
   "id": "6e3cdcff",
   "metadata": {},
   "source": [
    "## Evaluating Precise"
   ]
  },
  {
   "cell_type": "code",
   "execution_count": 167,
   "id": "800ead22",
   "metadata": {},
   "outputs": [
    {
     "name": "stdout",
     "output_type": "stream",
     "text": [
      "41/41 [==============================] - 0s 6ms/step - loss: 1.7878 - accuracy: 0.1949\n",
      "Test loss: 1.78783118724823\n",
      "Test accuracy: 0.19485580921173096\n"
     ]
    }
   ],
   "source": [
    "# create the test data\n",
    "tokenizer.fit_on_texts(dataset[\"test\"]['statement'])\n",
    "sequences_statement = tokenizer.texts_to_sequences(dataset[\"test\"]['statement'])\n",
    "\n",
    "tokenizer.fit_on_texts(dataset[\"test\"]['subject'])\n",
    "sequences_subject = tokenizer.texts_to_sequences(dataset[\"test\"]['subject'])\n",
    "\n",
    "#pad the sequences\n",
    "x_test = [pad_sequences(sequences_statement, maxlen=max_words), pad_sequences(sequences_subject, maxlen=max_words)]\n",
    "y_test = to_categorical(test_label, num_classes=output_dim)\n",
    "\n",
    "#evaluate the model\n",
    "loss, accuracy = model.evaluate(x_test, y_test, batch_size=32)\n",
    "\n",
    "#print the results\n",
    "print('Test loss:', loss)\n",
    "print('Test accuracy:', accuracy)"
   ]
  },
  {
   "cell_type": "markdown",
   "id": "e0d508aa",
   "metadata": {},
   "source": [
    "## Evaluating with Neighbours\n",
    "\n",
    "We will now give the model a margin of error by being okay with it predicting neighbouring labels"
   ]
  },
  {
   "cell_type": "code",
   "execution_count": 168,
   "id": "3835e992",
   "metadata": {},
   "outputs": [
    {
     "name": "stdout",
     "output_type": "stream",
     "text": [
      "41/41 [==============================] - 0s 6ms/step\n"
     ]
    },
    {
     "ename": "TypeError",
     "evalue": "only integer scalar arrays can be converted to a scalar index",
     "output_type": "error",
     "traceback": [
      "\u001b[1;31m---------------------------------------------------------------------------\u001b[0m",
      "\u001b[1;31mTypeError\u001b[0m                                 Traceback (most recent call last)",
      "\u001b[1;32m~\\AppData\\Local\\Temp\\ipykernel_15432\\3637436171.py\u001b[0m in \u001b[0;36m<module>\u001b[1;34m\u001b[0m\n\u001b[0;32m     15\u001b[0m \u001b[1;31m# Replace the predicted labels with neighboring labels if necessary\u001b[0m\u001b[1;33m\u001b[0m\u001b[1;33m\u001b[0m\u001b[0m\n\u001b[0;32m     16\u001b[0m \u001b[1;32mfor\u001b[0m \u001b[0mi\u001b[0m \u001b[1;32min\u001b[0m \u001b[0mrange\u001b[0m\u001b[1;33m(\u001b[0m\u001b[0mlen\u001b[0m\u001b[1;33m(\u001b[0m\u001b[0my_pred\u001b[0m\u001b[1;33m)\u001b[0m\u001b[1;33m)\u001b[0m\u001b[1;33m:\u001b[0m\u001b[1;33m\u001b[0m\u001b[1;33m\u001b[0m\u001b[0m\n\u001b[1;32m---> 17\u001b[1;33m     \u001b[1;32mif\u001b[0m \u001b[0my_pred\u001b[0m\u001b[1;33m[\u001b[0m\u001b[0mi\u001b[0m\u001b[1;33m]\u001b[0m \u001b[1;32mnot\u001b[0m \u001b[1;32min\u001b[0m \u001b[0mneighboring_indices\u001b[0m\u001b[1;33m[\u001b[0m\u001b[0my_test\u001b[0m\u001b[1;33m[\u001b[0m\u001b[0mi\u001b[0m\u001b[1;33m]\u001b[0m\u001b[1;33m]\u001b[0m\u001b[1;33m:\u001b[0m\u001b[1;33m\u001b[0m\u001b[1;33m\u001b[0m\u001b[0m\n\u001b[0m\u001b[0;32m     18\u001b[0m         \u001b[0mneighboring_preds\u001b[0m \u001b[1;33m=\u001b[0m \u001b[0mneighboring_indices\u001b[0m\u001b[1;33m[\u001b[0m\u001b[0my_test\u001b[0m\u001b[1;33m[\u001b[0m\u001b[0mi\u001b[0m\u001b[1;33m]\u001b[0m\u001b[1;33m]\u001b[0m\u001b[1;33m.\u001b[0m\u001b[0mintersection\u001b[0m\u001b[1;33m(\u001b[0m\u001b[0mnp\u001b[0m\u001b[1;33m.\u001b[0m\u001b[0mnonzero\u001b[0m\u001b[1;33m(\u001b[0m\u001b[0my_pred_adj\u001b[0m\u001b[1;33m[\u001b[0m\u001b[0mi\u001b[0m\u001b[1;33m]\u001b[0m\u001b[1;33m)\u001b[0m\u001b[1;33m[\u001b[0m\u001b[1;36m0\u001b[0m\u001b[1;33m]\u001b[0m\u001b[1;33m)\u001b[0m\u001b[1;33m\u001b[0m\u001b[1;33m\u001b[0m\u001b[0m\n\u001b[0;32m     19\u001b[0m         \u001b[1;32mif\u001b[0m \u001b[0mneighboring_preds\u001b[0m\u001b[1;33m:\u001b[0m\u001b[1;33m\u001b[0m\u001b[1;33m\u001b[0m\u001b[0m\n",
      "\u001b[1;31mTypeError\u001b[0m: only integer scalar arrays can be converted to a scalar index"
     ]
    }
   ],
   "source": [
    "# Make predictions on the test set\n",
    "y_pred_probs = model.predict(x_test)\n",
    "y_pred = np.argmax(y_pred_probs, axis=1)\n",
    "\n",
    "# Define the threshold for neighboring labels\n",
    "threshold = 0.4\n",
    "\n",
    "# Apply the threshold to the predicted probabilities\n",
    "y_pred_adj = np.where(y_pred_probs > threshold, y_pred_probs, 0)\n",
    "\n",
    "# Get the indices of the neighboring labels\n",
    "neighboring_labels = [set([i-1, i, i+1]) for i in range(output_dim)]\n",
    "neighboring_indices = [set([j for j in range(output_dim) if j in labels]) for labels in neighboring_labels]\n",
    "\n",
    "# Replace the predicted labels with neighboring labels if necessary\n",
    "for i in range(len(y_pred)):\n",
    "    if y_pred[i] not in neighboring_indices[y_test[i]]:\n",
    "        neighboring_preds = neighboring_indices[y_test[i]].intersection(np.nonzero(y_pred_adj[i])[0])\n",
    "        if neighboring_preds:\n",
    "            y_pred[i] = max(neighboring_preds)\n",
    "\n",
    "# Calculate the accuracy with the modified predictions\n",
    "accuracy_adj = np.mean(y_pred == y_test)\n",
    "\n",
    "print('Test loss:', loss)\n",
    "print('Test accuracy:', accuracy)\n",
    "print('Adjusted accuracy:', accuracy_adj)\n"
   ]
  },
  {
   "cell_type": "code",
   "execution_count": null,
   "id": "b47c5eb2",
   "metadata": {},
   "outputs": [],
   "source": []
  },
  {
   "cell_type": "code",
   "execution_count": null,
   "id": "7dffbaaf",
   "metadata": {},
   "outputs": [],
   "source": []
  },
  {
   "cell_type": "code",
   "execution_count": null,
   "id": "160addc6",
   "metadata": {},
   "outputs": [],
   "source": []
  },
  {
   "cell_type": "code",
   "execution_count": null,
   "id": "e735f3ee",
   "metadata": {},
   "outputs": [],
   "source": []
  }
 ],
 "metadata": {
  "kernelspec": {
   "display_name": "Python 3 (ipykernel)",
   "language": "python",
   "name": "python3"
  },
  "language_info": {
   "codemirror_mode": {
    "name": "ipython",
    "version": 3
   },
   "file_extension": ".py",
   "mimetype": "text/x-python",
   "name": "python",
   "nbconvert_exporter": "python",
   "pygments_lexer": "ipython3",
   "version": "3.9.13"
  }
 },
 "nbformat": 4,
 "nbformat_minor": 5
}
